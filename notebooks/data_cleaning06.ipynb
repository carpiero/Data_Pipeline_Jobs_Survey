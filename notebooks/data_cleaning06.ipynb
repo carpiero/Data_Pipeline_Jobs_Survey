{
 "cells": [
  {
   "cell_type": "code",
   "execution_count": 1,
   "metadata": {},
   "outputs": [],
   "source": [
    "import pandas as pd\n",
    "\n",
    "df_final_nulls=pd.read_parquet(f'../data/processed/df_final_nulls.parquet')"
   ]
  },
  {
   "cell_type": "code",
   "execution_count": 4,
   "metadata": {},
   "outputs": [
    {
     "name": "stdout",
     "output_type": "stream",
     "text": [
      "<class 'pandas.core.frame.DataFrame'>\n",
      "Int64Index: 9649 entries, 0 to 9648\n",
      "Data columns (total 17 columns):\n",
      " #   Column               Non-Null Count  Dtype   \n",
      "---  ------               --------------  -----   \n",
      " 0   uuid                 9649 non-null   object  \n",
      " 1   age                  9649 non-null   int64   \n",
      " 2   gender               9649 non-null   category\n",
      " 3   dem_has_children     9649 non-null   category\n",
      " 4   age_group            9649 non-null   category\n",
      " 5   country_code         9649 non-null   category\n",
      " 6   rural                9649 non-null   category\n",
      " 7   dem_education_level  8986 non-null   object  \n",
      " 8   dem_full_time_job    9649 non-null   category\n",
      " 9   normalized_job_code  5702 non-null   object  \n",
      " 10  awareness            9649 non-null   category\n",
      " 11  vote                 9649 non-null   category\n",
      " 12  effect               9649 non-null   category\n",
      " 13  argumentsfor         9649 non-null   object  \n",
      " 14  argumentsagainst     9649 non-null   object  \n",
      " 15  Country              9649 non-null   object  \n",
      " 16  Job Title            9649 non-null   object  \n",
      "dtypes: category(9), int64(1), object(7)\n",
      "memory usage: 6.3 MB\n",
      "None\n"
     ]
    }
   ],
   "source": [
    "print(df_final_nulls.info(memory_usage='deep'))"
   ]
  },
  {
   "cell_type": "code",
   "execution_count": 13,
   "metadata": {},
   "outputs": [],
   "source": [
    "list_group=['Country']\n",
    "\n",
    "d=df_final_nulls.groupby(list_group, as_index=False)"
   ]
  },
  {
   "cell_type": "code",
   "execution_count": 14,
   "metadata": {},
   "outputs": [
    {
     "data": {
      "text/plain": [
       "<pandas.core.groupby.generic.DataFrameGroupBy object at 0x7f08388ea2d0>"
      ]
     },
     "execution_count": 14,
     "metadata": {},
     "output_type": "execute_result"
    }
   ],
   "source": [
    "d"
   ]
  },
  {
   "cell_type": "code",
   "execution_count": null,
   "metadata": {},
   "outputs": [],
   "source": []
  }
 ],
 "metadata": {
  "kernelspec": {
   "display_name": "Python [conda env:iron]",
   "language": "python",
   "name": "conda-env-iron-py"
  },
  "language_info": {
   "codemirror_mode": {
    "name": "ipython",
    "version": 3
   },
   "file_extension": ".py",
   "mimetype": "text/x-python",
   "name": "python",
   "nbconvert_exporter": "python",
   "pygments_lexer": "ipython3",
   "version": "3.7.7"
  }
 },
 "nbformat": 4,
 "nbformat_minor": 4
}
