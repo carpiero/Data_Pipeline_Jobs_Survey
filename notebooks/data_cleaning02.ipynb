{
 "cells": [
  {
   "cell_type": "code",
   "execution_count": 8,
   "metadata": {},
   "outputs": [],
   "source": [
    "import pandas as pd\n",
    "\n",
    "df_personal=pd.read_parquet(f'../data/processed/df_personal.parquet')\n",
    "df_country=pd.read_parquet(f'../data/processed/df_country.parquet')\n",
    "df_career=pd.read_parquet(f'../data/processed/df_career.parquet')\n",
    "df_poll=pd.read_parquet(f'../data/processed/df_poll.parquet')   \n",
    "\n"
   ]
  },
  {
   "cell_type": "code",
   "execution_count": 9,
   "metadata": {},
   "outputs": [
    {
     "name": "stdout",
     "output_type": "stream",
     "text": [
      "<class 'pandas.core.frame.DataFrame'>\n",
      "RangeIndex: 9649 entries, 0 to 9648\n",
      "Data columns (total 5 columns):\n",
      " #   Column            Non-Null Count  Dtype   \n",
      "---  ------            --------------  -----   \n",
      " 0   uuid              9649 non-null   object  \n",
      " 1   age               9649 non-null   int64   \n",
      " 2   gender            9649 non-null   category\n",
      " 3   dem_has_children  9649 non-null   category\n",
      " 4   age_group         9649 non-null   category\n",
      "dtypes: category(3), int64(1), object(1)\n",
      "memory usage: 980.8 KB\n",
      "None\n"
     ]
    }
   ],
   "source": [
    "print(df_personal.info(memory_usage='deep'))"
   ]
  },
  {
   "cell_type": "code",
   "execution_count": 10,
   "metadata": {},
   "outputs": [
    {
     "name": "stdout",
     "output_type": "stream",
     "text": [
      "uuid                9649\n",
      "age                   48\n",
      "gender                 2\n",
      "dem_has_children       2\n",
      "age_group              3\n",
      "dtype: int64\n"
     ]
    }
   ],
   "source": [
    "print(df_personal.nunique())"
   ]
  },
  {
   "cell_type": "code",
   "execution_count": 11,
   "metadata": {},
   "outputs": [
    {
     "name": "stdout",
     "output_type": "stream",
     "text": [
      "<class 'pandas.core.frame.DataFrame'>\n",
      "RangeIndex: 9649 entries, 0 to 9648\n",
      "Data columns (total 3 columns):\n",
      " #   Column        Non-Null Count  Dtype   \n",
      "---  ------        --------------  -----   \n",
      " 0   uuid          9649 non-null   object  \n",
      " 1   country_code  9649 non-null   category\n",
      " 2   rural         9649 non-null   category\n",
      "dtypes: category(2), object(1)\n",
      "memory usage: 898.4 KB\n",
      "None\n"
     ]
    }
   ],
   "source": [
    "print(df_country.info(memory_usage='deep'))"
   ]
  },
  {
   "cell_type": "code",
   "execution_count": 12,
   "metadata": {},
   "outputs": [
    {
     "name": "stdout",
     "output_type": "stream",
     "text": [
      "uuid            9649\n",
      "country_code      28\n",
      "rural              2\n",
      "dtype: int64\n"
     ]
    }
   ],
   "source": [
    "print(df_country.nunique())"
   ]
  },
  {
   "cell_type": "code",
   "execution_count": 13,
   "metadata": {},
   "outputs": [
    {
     "name": "stdout",
     "output_type": "stream",
     "text": [
      "<class 'pandas.core.frame.DataFrame'>\n",
      "RangeIndex: 9649 entries, 0 to 9648\n",
      "Data columns (total 4 columns):\n",
      " #   Column               Non-Null Count  Dtype   \n",
      "---  ------               --------------  -----   \n",
      " 0   uuid                 9649 non-null   object  \n",
      " 1   dem_education_level  8986 non-null   object  \n",
      " 2   dem_full_time_job    9649 non-null   category\n",
      " 3   normalized_job_code  5702 non-null   object  \n",
      "dtypes: category(1), object(3)\n",
      "memory usage: 2.0 MB\n",
      "None\n"
     ]
    }
   ],
   "source": [
    "print(df_career.info(memory_usage='deep'))"
   ]
  },
  {
   "cell_type": "code",
   "execution_count": 14,
   "metadata": {},
   "outputs": [
    {
     "name": "stdout",
     "output_type": "stream",
     "text": [
      "uuid                   9649\n",
      "dem_education_level       4\n",
      "dem_full_time_job         2\n",
      "normalized_job_code     156\n",
      "dtype: int64\n"
     ]
    }
   ],
   "source": [
    "print(df_career.nunique())"
   ]
  },
  {
   "cell_type": "code",
   "execution_count": 15,
   "metadata": {},
   "outputs": [
    {
     "name": "stdout",
     "output_type": "stream",
     "text": [
      "<class 'pandas.core.frame.DataFrame'>\n",
      "RangeIndex: 9649 entries, 0 to 9648\n",
      "Data columns (total 6 columns):\n",
      " #   Column            Non-Null Count  Dtype   \n",
      "---  ------            --------------  -----   \n",
      " 0   uuid              9649 non-null   object  \n",
      " 1   awareness         9649 non-null   category\n",
      " 2   vote              9649 non-null   category\n",
      " 3   effect            9649 non-null   category\n",
      " 4   argumentsfor      9649 non-null   object  \n",
      " 5   argumentsagainst  9649 non-null   object  \n",
      "dtypes: category(3), object(3)\n",
      "memory usage: 3.6 MB\n",
      "None\n"
     ]
    }
   ],
   "source": [
    "print(df_poll.info(memory_usage='deep'))"
   ]
  },
  {
   "cell_type": "code",
   "execution_count": 16,
   "metadata": {},
   "outputs": [
    {
     "name": "stdout",
     "output_type": "stream",
     "text": [
      "uuid                9649\n",
      "awareness              4\n",
      "vote                   5\n",
      "effect                 9\n",
      "argumentsfor         674\n",
      "argumentsagainst     881\n",
      "dtype: int64\n"
     ]
    }
   ],
   "source": [
    "print(df_poll.nunique())"
   ]
  }
 ],
 "metadata": {
  "kernelspec": {
   "display_name": "Python [conda env:iron]",
   "language": "python",
   "name": "conda-env-iron-py"
  },
  "language_info": {
   "codemirror_mode": {
    "name": "ipython",
    "version": 3
   },
   "file_extension": ".py",
   "mimetype": "text/x-python",
   "name": "python",
   "nbconvert_exporter": "python",
   "pygments_lexer": "ipython3",
   "version": "3.7.7"
  }
 },
 "nbformat": 4,
 "nbformat_minor": 4
}
