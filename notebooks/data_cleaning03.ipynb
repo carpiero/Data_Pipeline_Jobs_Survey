{
 "cells": [
  {
   "cell_type": "code",
   "execution_count": 1,
   "metadata": {},
   "outputs": [],
   "source": [
    "import pandas as pd\n",
    "\n",
    "df_final=pd.read_parquet(f'../data/processed/df_final.parquet')"
   ]
  },
  {
   "cell_type": "code",
   "execution_count": 60,
   "metadata": {},
   "outputs": [
    {
     "name": "stdout",
     "output_type": "stream",
     "text": [
      "{'BE': 'Belgium', 'EL': 'Greece', 'LT': 'Lithuania', 'PT': 'Portugal', 'BG': 'Bulgaria', 'ES': 'Spain', 'LU': 'Luxembourg', 'RO': 'Romania', 'CZ': 'Czechia', 'FR': 'France', 'HU': 'Hungary', 'SI': 'Slovenia', 'DK': 'Denmark', 'HR': 'Croatia', 'MT': 'Malta', 'SK': 'Slovakia', 'DE': 'Germany', 'IT': 'Italy', 'NL': 'Netherlands', 'FI': 'Finland', 'EE': 'Estonia', 'CY': 'Cyprus', 'AT': 'Austria', 'SE': 'Sweden', 'IE': 'Ireland', 'LV': 'Latvia', 'PL': 'Poland', 'UK': 'UnitedKingdom', 'IS': 'Iceland', 'NO': 'Norway', 'LI': 'Liechtenstein', 'CH': 'Switzerland', 'ME': 'Montenegro', 'MK': 'NorthMacedonia', 'AL': 'Albania', 'RS': 'Serbia', 'TR': 'Turkey', 'BA': 'BosniaandHerzegovina', 'XK': 'Kosovo', 'AM': 'Armenia', 'BY': 'Belarus', 'GE': 'Georgia', 'AZ': 'Azerbaijan', 'MD': 'Moldova', 'UA': 'Ukraine', 'DZ': 'Algeria', 'LB': 'Lebanon', 'SY': 'Syria', 'EG': 'Egypt', 'LY': 'Libya', 'TN': 'Tunisia', 'IL': 'Israel', 'MA': 'Morocco', 'JO': 'Jordan', 'PS': 'Palestine', 'RU': 'Russia', 'AR': 'Argentina', 'CN_X_HK': 'China(exceptHongKong)', 'MX': 'Mexico', 'ZA': 'SouthAfrica', 'AU': 'Australia', 'HK': 'HongKong', 'NG': 'Nigeria', 'KR': 'SouthKorea', 'BR': 'Brazil', 'IN': 'India', 'NZ': 'NewZealand', 'TW': 'Taiwan', 'CA': 'Canada', 'JP': 'Japan', 'SG': 'Singapore', 'US': 'UnitedStates'}\n"
     ]
    }
   ],
   "source": [
    "import requests\n",
    "from bs4 import BeautifulSoup\n",
    "import re\n",
    "url = 'https://ec.europa.eu/eurostat/statistics-explained/index.php/Glossary:Country_codes'\n",
    "html = requests.get(url).content\n",
    "soup = BeautifulSoup(html, 'lxml')\n",
    "table = soup.find_all('div', {'class':'mw-content-ltr'})[0]\n",
    "rows = table.find_all('table')\n",
    "rows_parsed = [row.text for row in rows]\n",
    "\n",
    "rows_clean=[re.sub(r'\\s','',x)for x in rows_parsed]\n",
    "rows_clean=[re.sub(r'\\*','',x)for x in rows_clean]\n",
    "rows_clean=[re.sub(r'\\[\\d\\]','',x)for x in rows_clean]\n",
    "rows_clean=''.join(rows_clean)\n",
    "rows_country=re.split(r'\\(\\w{0,7}\\)',rows_clean)\n",
    "rows_code=re.findall(r'\\(\\w{0,7}\\)',rows_clean)\n",
    "rows_code=[re.sub(r'\\(|\\)','',x)for x in rows_code]\n",
    "\n",
    "\n",
    "dict_country=dict(zip(rows_code,rows_country))\n",
    "\n",
    "print(dict_country)"
   ]
  },
  {
   "cell_type": "code",
   "execution_count": 5,
   "metadata": {},
   "outputs": [
    {
     "data": {
      "text/plain": [
       "DE    1420\n",
       "FR    1248\n",
       "GB    1199\n",
       "IT    1138\n",
       "ES    1005\n",
       "PL     860\n",
       "RO     332\n",
       "NL     331\n",
       "GR     225\n",
       "HU     206\n",
       "PT     202\n",
       "CZ     189\n",
       "BE     179\n",
       "SE     175\n",
       "BG     141\n",
       "AT     133\n",
       "DK     119\n",
       "FI     113\n",
       "SK      93\n",
       "IE      90\n",
       "HR      87\n",
       "LT      50\n",
       "LV      36\n",
       "SI      28\n",
       "EE      18\n",
       "CY      13\n",
       "LU      11\n",
       "MT       8\n",
       "Name: country_code, dtype: int64"
      ]
     },
     "execution_count": 5,
     "metadata": {},
     "output_type": "execute_result"
    }
   ],
   "source": [
    "df_final['country_code'].value_counts()"
   ]
  },
  {
   "cell_type": "code",
   "execution_count": null,
   "metadata": {},
   "outputs": [],
   "source": [
    "#GR, GB no estan"
   ]
  },
  {
   "cell_type": "code",
   "execution_count": 62,
   "metadata": {},
   "outputs": [
    {
     "data": {
      "text/plain": [
       "0        Austria\n",
       "1        Austria\n",
       "2        Austria\n",
       "3        Austria\n",
       "4        Austria\n",
       "          ...   \n",
       "9644    Slovakia\n",
       "9645    Slovakia\n",
       "9646    Slovakia\n",
       "9647    Slovakia\n",
       "9648    Slovakia\n",
       "Name: Country, Length: 9649, dtype: object"
      ]
     },
     "execution_count": 62,
     "metadata": {},
     "output_type": "execute_result"
    }
   ],
   "source": [
    "df_final['Country']= ''\n",
    "\n",
    "for k,v in dict_country.items():\n",
    "    df_final.loc[df_final['country_code']==k,'Country']=v\n",
    "    \n",
    "df_final['Country']\n",
    "\n",
    "\n"
   ]
  },
  {
   "cell_type": "code",
   "execution_count": null,
   "metadata": {},
   "outputs": [],
   "source": []
  }
 ],
 "metadata": {
  "kernelspec": {
   "display_name": "Python [conda env:iron]",
   "language": "python",
   "name": "conda-env-iron-py"
  },
  "language_info": {
   "codemirror_mode": {
    "name": "ipython",
    "version": 3
   },
   "file_extension": ".py",
   "mimetype": "text/x-python",
   "name": "python",
   "nbconvert_exporter": "python",
   "pygments_lexer": "ipython3",
   "version": "3.7.7"
  }
 },
 "nbformat": 4,
 "nbformat_minor": 4
}
