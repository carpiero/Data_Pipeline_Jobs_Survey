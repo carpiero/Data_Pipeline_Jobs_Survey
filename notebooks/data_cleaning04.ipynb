{
 "cells": [
  {
   "cell_type": "code",
   "execution_count": 1,
   "metadata": {},
   "outputs": [],
   "source": [
    "import pandas as pd\n",
    "\n",
    "df_final_web=pd.read_parquet(f'../data/processed/df_final_web.parquet')"
   ]
  },
  {
   "cell_type": "code",
   "execution_count": 2,
   "metadata": {},
   "outputs": [
    {
     "name": "stdout",
     "output_type": "stream",
     "text": [
      "<class 'pandas.core.frame.DataFrame'>\n",
      "Int64Index: 9649 entries, 0 to 9648\n",
      "Data columns (total 16 columns):\n",
      " #   Column               Non-Null Count  Dtype   \n",
      "---  ------               --------------  -----   \n",
      " 0   uuid                 9649 non-null   object  \n",
      " 1   age                  9649 non-null   int64   \n",
      " 2   gender               9649 non-null   category\n",
      " 3   dem_has_children     9649 non-null   category\n",
      " 4   age_group            9649 non-null   category\n",
      " 5   country_code         9649 non-null   category\n",
      " 6   rural                9649 non-null   category\n",
      " 7   dem_education_level  8986 non-null   object  \n",
      " 8   dem_full_time_job    9649 non-null   category\n",
      " 9   normalized_job_code  5702 non-null   object  \n",
      " 10  awareness            9649 non-null   category\n",
      " 11  vote                 9649 non-null   category\n",
      " 12  effect               9649 non-null   category\n",
      " 13  argumentsfor         9649 non-null   object  \n",
      " 14  argumentsagainst     9649 non-null   object  \n",
      " 15  Country              9649 non-null   object  \n",
      "dtypes: category(9), int64(1), object(6)\n",
      "memory usage: 5.5 MB\n",
      "None\n"
     ]
    }
   ],
   "source": [
    "print(df_final_web.info(memory_usage='deep'))"
   ]
  },
  {
   "cell_type": "code",
   "execution_count": 3,
   "metadata": {},
   "outputs": [
    {
     "data": {
      "text/plain": [
       "uuid                   9649\n",
       "age                      52\n",
       "gender                    2\n",
       "dem_has_children          2\n",
       "age_group                 3\n",
       "country_code             28\n",
       "rural                     2\n",
       "dem_education_level       4\n",
       "dem_full_time_job         2\n",
       "normalized_job_code     156\n",
       "awareness                 4\n",
       "vote                      5\n",
       "effect                    9\n",
       "argumentsfor            674\n",
       "argumentsagainst        881\n",
       "Country                  28\n",
       "dtype: int64"
      ]
     },
     "execution_count": 3,
     "metadata": {},
     "output_type": "execute_result"
    }
   ],
   "source": [
    "df_final_web.nunique()"
   ]
  },
  {
   "cell_type": "code",
   "execution_count": 4,
   "metadata": {},
   "outputs": [],
   "source": [
    "list_unique_jobs=df_final_web['normalized_job_code'].unique().tolist()\n"
   ]
  },
  {
   "cell_type": "code",
   "execution_count": 5,
   "metadata": {},
   "outputs": [
    {
     "data": {
      "text/plain": [
       "156"
      ]
     },
     "execution_count": 5,
     "metadata": {},
     "output_type": "execute_result"
    }
   ],
   "source": [
    "import requests\n",
    "\n",
    "list_uuid=[]\n",
    "list_title=[]\n",
    "\n",
    "for x in list_unique_jobs:\n",
    "    url=f'http://api.dataatwork.org/v1/jobs/{x}'\n",
    "    response = requests.get(url)\n",
    "    if list(response.json().keys())[0]=='error':\n",
    "        pass\n",
    "    else:\n",
    "        list_uuid.append(response.json()['uuid'])\n",
    "        list_title.append(response.json()['title'])\n",
    "\n",
    "dict_uuid_title=dict(zip(list_uuid,list_title))\n",
    "len(dict_uuid_title)"
   ]
  },
  {
   "cell_type": "code",
   "execution_count": 6,
   "metadata": {},
   "outputs": [],
   "source": [
    "df_final_web['Job Title']= df_final_web['normalized_job_code']\n",
    "\n",
    "for k,v in dict_uuid_title.items():\n",
    "    df_final_web.loc[df_final_web['normalized_job_code']==k,'Job Title']=v\n",
    "    \n",
    "\n"
   ]
  },
  {
   "cell_type": "code",
   "execution_count": 7,
   "metadata": {},
   "outputs": [
    {
     "name": "stdout",
     "output_type": "stream",
     "text": [
      "<class 'pandas.core.frame.DataFrame'>\n",
      "Int64Index: 9649 entries, 0 to 9648\n",
      "Data columns (total 17 columns):\n",
      " #   Column               Non-Null Count  Dtype   \n",
      "---  ------               --------------  -----   \n",
      " 0   uuid                 9649 non-null   object  \n",
      " 1   age                  9649 non-null   int64   \n",
      " 2   gender               9649 non-null   category\n",
      " 3   dem_has_children     9649 non-null   category\n",
      " 4   age_group            9649 non-null   category\n",
      " 5   country_code         9649 non-null   category\n",
      " 6   rural                9649 non-null   category\n",
      " 7   dem_education_level  8986 non-null   object  \n",
      " 8   dem_full_time_job    9649 non-null   category\n",
      " 9   normalized_job_code  5702 non-null   object  \n",
      " 10  awareness            9649 non-null   category\n",
      " 11  vote                 9649 non-null   category\n",
      " 12  effect               9649 non-null   category\n",
      " 13  argumentsfor         9649 non-null   object  \n",
      " 14  argumentsagainst     9649 non-null   object  \n",
      " 15  Country              9649 non-null   object  \n",
      " 16  Job Title            5702 non-null   object  \n",
      "dtypes: category(9), int64(1), object(7)\n",
      "memory usage: 6.8 MB\n",
      "None\n"
     ]
    },
    {
     "data": {
      "text/plain": [
       "uuid                   9649\n",
       "age                      52\n",
       "gender                    2\n",
       "dem_has_children          2\n",
       "age_group                 3\n",
       "country_code             28\n",
       "rural                     2\n",
       "dem_education_level       4\n",
       "dem_full_time_job         2\n",
       "normalized_job_code     156\n",
       "awareness                 4\n",
       "vote                      5\n",
       "effect                    9\n",
       "argumentsfor            674\n",
       "argumentsagainst        881\n",
       "Country                  28\n",
       "Job Title               156\n",
       "dtype: int64"
      ]
     },
     "execution_count": 7,
     "metadata": {},
     "output_type": "execute_result"
    }
   ],
   "source": [
    "print(df_final_web.info(memory_usage='deep'))\n",
    "df_final_web.nunique()"
   ]
  },
  {
   "cell_type": "code",
   "execution_count": 8,
   "metadata": {},
   "outputs": [],
   "source": [
    "df_final_web.loc[df_final_web['Job Title'].isnull(),'Job Title']='Unemployed or Part time Job or Inactive'"
   ]
  },
  {
   "cell_type": "code",
   "execution_count": 9,
   "metadata": {},
   "outputs": [
    {
     "name": "stdout",
     "output_type": "stream",
     "text": [
      "<class 'pandas.core.frame.DataFrame'>\n",
      "Int64Index: 9649 entries, 0 to 9648\n",
      "Data columns (total 17 columns):\n",
      " #   Column               Non-Null Count  Dtype   \n",
      "---  ------               --------------  -----   \n",
      " 0   uuid                 9649 non-null   object  \n",
      " 1   age                  9649 non-null   int64   \n",
      " 2   gender               9649 non-null   category\n",
      " 3   dem_has_children     9649 non-null   category\n",
      " 4   age_group            9649 non-null   category\n",
      " 5   country_code         9649 non-null   category\n",
      " 6   rural                9649 non-null   category\n",
      " 7   dem_education_level  8986 non-null   object  \n",
      " 8   dem_full_time_job    9649 non-null   category\n",
      " 9   normalized_job_code  5702 non-null   object  \n",
      " 10  awareness            9649 non-null   category\n",
      " 11  vote                 9649 non-null   category\n",
      " 12  effect               9649 non-null   category\n",
      " 13  argumentsfor         9649 non-null   object  \n",
      " 14  argumentsagainst     9649 non-null   object  \n",
      " 15  Country              9649 non-null   object  \n",
      " 16  Job Title            9649 non-null   object  \n",
      "dtypes: category(9), int64(1), object(7)\n",
      "memory usage: 7.7 MB\n",
      "None\n"
     ]
    },
    {
     "data": {
      "text/plain": [
       "uuid                   9649\n",
       "age                      52\n",
       "gender                    2\n",
       "dem_has_children          2\n",
       "age_group                 3\n",
       "country_code             28\n",
       "rural                     2\n",
       "dem_education_level       4\n",
       "dem_full_time_job         2\n",
       "normalized_job_code     156\n",
       "awareness                 4\n",
       "vote                      5\n",
       "effect                    9\n",
       "argumentsfor            674\n",
       "argumentsagainst        881\n",
       "Country                  28\n",
       "Job Title               157\n",
       "dtype: int64"
      ]
     },
     "execution_count": 9,
     "metadata": {},
     "output_type": "execute_result"
    }
   ],
   "source": [
    "print(df_final_web.info(memory_usage='deep'))\n",
    "df_final_web.nunique()"
   ]
  },
  {
   "cell_type": "code",
   "execution_count": null,
   "metadata": {},
   "outputs": [],
   "source": []
  },
  {
   "cell_type": "code",
   "execution_count": 10,
   "metadata": {},
   "outputs": [
    {
     "data": {
      "text/plain": [
       "Unemployed or Part time Job or Inactive                              3947\n",
       "Data Officer                                                          101\n",
       "Automatic Data Processing Customer Liaison (ADP Customer Liaison)      88\n",
       "Computer or Data Processing Systems Consultant                         88\n",
       "Data Coordinator                                                       88\n",
       "                                                                     ... \n",
       "Data Processing Mechanic                                                6\n",
       "Clinical Trials Data Coordinator                                        5\n",
       "Data Reviewer                                                           5\n",
       "Data Center Manager                                                     4\n",
       "Database Technician                                                     4\n",
       "Name: Job Title, Length: 157, dtype: int64"
      ]
     },
     "execution_count": 10,
     "metadata": {},
     "output_type": "execute_result"
    }
   ],
   "source": [
    "df_final_web['Job Title'].value_counts()"
   ]
  },
  {
   "cell_type": "code",
   "execution_count": null,
   "metadata": {},
   "outputs": [],
   "source": []
  },
  {
   "cell_type": "code",
   "execution_count": 11,
   "metadata": {},
   "outputs": [],
   "source": [
    "df_final_web.to_parquet('../data/processed/df_final_api.parquet')"
   ]
  },
  {
   "cell_type": "code",
   "execution_count": null,
   "metadata": {},
   "outputs": [],
   "source": []
  }
 ],
 "metadata": {
  "kernelspec": {
   "display_name": "Python [conda env:iron]",
   "language": "python",
   "name": "conda-env-iron-py"
  },
  "language_info": {
   "codemirror_mode": {
    "name": "ipython",
    "version": 3
   },
   "file_extension": ".py",
   "mimetype": "text/x-python",
   "name": "python",
   "nbconvert_exporter": "python",
   "pygments_lexer": "ipython3",
   "version": "3.7.7"
  }
 },
 "nbformat": 4,
 "nbformat_minor": 4
}
