{
 "cells": [
  {
   "cell_type": "code",
   "execution_count": 37,
   "metadata": {},
   "outputs": [],
   "source": [
    "import pandas as pd\n",
    "\n",
    "df_final_api=pd.read_parquet(f'../data/processed/df_final_api.parquet')"
   ]
  },
  {
   "cell_type": "code",
   "execution_count": 38,
   "metadata": {},
   "outputs": [
    {
     "name": "stdout",
     "output_type": "stream",
     "text": [
      "<class 'pandas.core.frame.DataFrame'>\n",
      "Int64Index: 9649 entries, 0 to 9648\n",
      "Data columns (total 17 columns):\n",
      " #   Column               Non-Null Count  Dtype   \n",
      "---  ------               --------------  -----   \n",
      " 0   uuid                 9649 non-null   object  \n",
      " 1   age                  9649 non-null   int64   \n",
      " 2   gender               9649 non-null   category\n",
      " 3   dem_has_children     9649 non-null   category\n",
      " 4   age_group            9649 non-null   category\n",
      " 5   country_code         9649 non-null   category\n",
      " 6   rural                9649 non-null   category\n",
      " 7   dem_education_level  8986 non-null   object  \n",
      " 8   dem_full_time_job    9649 non-null   category\n",
      " 9   normalized_job_code  5702 non-null   object  \n",
      " 10  awareness            9649 non-null   category\n",
      " 11  vote                 9649 non-null   category\n",
      " 12  effect               9649 non-null   category\n",
      " 13  argumentsfor         9649 non-null   object  \n",
      " 14  argumentsagainst     9649 non-null   object  \n",
      " 15  Country              9649 non-null   object  \n",
      " 16  Job Title            9649 non-null   object  \n",
      "dtypes: category(9), int64(1), object(7)\n",
      "memory usage: 6.3 MB\n",
      "None\n"
     ]
    }
   ],
   "source": [
    "print(df_final_api.info(memory_usage='deep'))"
   ]
  },
  {
   "cell_type": "code",
   "execution_count": 40,
   "metadata": {},
   "outputs": [
    {
     "data": {
      "text/plain": [
       "Unemployed or Part time Job                                407\n",
       "Data Scientist                                               7\n",
       "Automatic Data Processing Planner                            7\n",
       "Database Development and Administration Project Manager      6\n",
       "Database Manager                                             6\n",
       "                                                          ... \n",
       "Data Reviewer                                                1\n",
       "Clinical Data Manager                                        1\n",
       "Data Processing Mechanic                                     1\n",
       "Database Programmer                                          1\n",
       "Data Miner                                                   1\n",
       "Name: Job Title, Length: 99, dtype: int64"
      ]
     },
     "execution_count": 40,
     "metadata": {},
     "output_type": "execute_result"
    }
   ],
   "source": [
    "df_final_api.loc[df_final_api['dem_education_level'].isnull(),'Job Title'].value_counts()"
   ]
  },
  {
   "cell_type": "code",
   "execution_count": 41,
   "metadata": {},
   "outputs": [
    {
     "data": {
      "text/plain": [
       "663"
      ]
     },
     "execution_count": 41,
     "metadata": {},
     "output_type": "execute_result"
    }
   ],
   "source": [
    "df_final_api['dem_education_level'].isnull().sum()"
   ]
  },
  {
   "cell_type": "code",
   "execution_count": 26,
   "metadata": {},
   "outputs": [
    {
     "data": {
      "text/plain": [
       "medium    3578\n",
       "high      3270\n",
       "low       1815\n",
       "no         323\n",
       "Name: dem_education_level, dtype: int64"
      ]
     },
     "execution_count": 26,
     "metadata": {},
     "output_type": "execute_result"
    }
   ],
   "source": [
    "df_final_api['dem_education_level'].value_counts()"
   ]
  },
  {
   "cell_type": "code",
   "execution_count": 10,
   "metadata": {},
   "outputs": [],
   "source": [
    "#selec_columns=df_final_api.columns.tolist()\n",
    "#df_final_api.drop_duplicates(subset=selec_columns, keep='first')"
   ]
  },
  {
   "cell_type": "code",
   "execution_count": 33,
   "metadata": {},
   "outputs": [
    {
     "name": "stdout",
     "output_type": "stream",
     "text": [
      "no     3947\n",
      "yes       0\n",
      "Name: dem_full_time_job, dtype: int64\n"
     ]
    }
   ],
   "source": [
    "print(df_final_api.loc[df_final_api['Job Title'].isnull(),'dem_full_time_job'].value_counts())"
   ]
  },
  {
   "cell_type": "code",
   "execution_count": 35,
   "metadata": {},
   "outputs": [
    {
     "data": {
      "text/plain": [
       "3947"
      ]
     },
     "execution_count": 35,
     "metadata": {},
     "output_type": "execute_result"
    }
   ],
   "source": [
    "df_final_api['Job Title'].isnull().sum()"
   ]
  },
  {
   "cell_type": "code",
   "execution_count": 36,
   "metadata": {},
   "outputs": [
    {
     "name": "stdout",
     "output_type": "stream",
     "text": [
      "Germany          609\n",
      "UnitedKingdom    558\n",
      "France           535\n",
      "Italy            446\n",
      "Spain            423\n",
      "Poland           324\n",
      "Netherlands      167\n",
      "Greece            90\n",
      "Romania           86\n",
      "Sweden            81\n",
      "Belgium           76\n",
      "Hungary           73\n",
      "Czechia           59\n",
      "Austria           59\n",
      "Portugal          58\n",
      "Denmark           48\n",
      "Bulgaria          45\n",
      "Ireland           42\n",
      "Finland           38\n",
      "Croatia           38\n",
      "Slovakia          29\n",
      "Lithuania         21\n",
      "Latvia            13\n",
      "Slovenia          11\n",
      "Estonia            8\n",
      "Cyprus             5\n",
      "Malta              3\n",
      "Luxembourg         2\n",
      "Name: Country, dtype: int64\n"
     ]
    }
   ],
   "source": [
    "print(df_final_api.loc[df_final_api['Job Title'].isnull(),'Country'].value_counts())"
   ]
  },
  {
   "cell_type": "code",
   "execution_count": 42,
   "metadata": {},
   "outputs": [],
   "source": [
    "df_final_api.to_parquet('../data/processed/df_final_nulls.parquet')"
   ]
  },
  {
   "cell_type": "code",
   "execution_count": null,
   "metadata": {},
   "outputs": [],
   "source": []
  }
 ],
 "metadata": {
  "kernelspec": {
   "display_name": "Python [conda env:iron]",
   "language": "python",
   "name": "conda-env-iron-py"
  },
  "language_info": {
   "codemirror_mode": {
    "name": "ipython",
    "version": 3
   },
   "file_extension": ".py",
   "mimetype": "text/x-python",
   "name": "python",
   "nbconvert_exporter": "python",
   "pygments_lexer": "ipython3",
   "version": "3.7.7"
  }
 },
 "nbformat": 4,
 "nbformat_minor": 4
}
