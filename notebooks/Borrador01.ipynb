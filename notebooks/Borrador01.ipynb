{
 "cells": [
  {
   "cell_type": "code",
   "execution_count": 25,
   "metadata": {},
   "outputs": [],
   "source": [
    "import pandas as pd\n",
    "\n",
    "df_personal=pd.read_csv(f'../data/results/df_results.csv')"
   ]
  },
  {
   "cell_type": "code",
   "execution_count": 26,
   "metadata": {},
   "outputs": [
    {
     "name": "stdout",
     "output_type": "stream",
     "text": [
      "<class 'pandas.core.frame.DataFrame'>\n",
      "RangeIndex: 8792 entries, 0 to 8791\n",
      "Data columns (total 6 columns):\n",
      " #   Column      Non-Null Count  Dtype \n",
      "---  ------      --------------  ----- \n",
      " 0   Unnamed: 0  8792 non-null   int64 \n",
      " 1   Country     8792 non-null   object\n",
      " 2   Job Title   8792 non-null   object\n",
      " 3   Gender (1)  8792 non-null   object\n",
      " 4   Quantity    8792 non-null   int64 \n",
      " 5   Percentage  8792 non-null   object\n",
      "dtypes: int64(2), object(4)\n",
      "memory usage: 2.5 MB\n",
      "None\n"
     ]
    }
   ],
   "source": [
    "print(df_personal.info(memory_usage='deep'))"
   ]
  },
  {
   "cell_type": "code",
   "execution_count": 27,
   "metadata": {},
   "outputs": [
    {
     "name": "stdout",
     "output_type": "stream",
     "text": [
      "Unnamed: 0    8792\n",
      "Country         28\n",
      "Job Title      157\n",
      "Gender (1)       2\n",
      "Quantity        49\n",
      "Percentage      28\n",
      "dtype: int64\n"
     ]
    }
   ],
   "source": [
    "print(df_personal.nunique())"
   ]
  },
  {
   "cell_type": "code",
   "execution_count": 20,
   "metadata": {},
   "outputs": [
    {
     "name": "stdout",
     "output_type": "stream",
     "text": [
      "AT\n",
      "BE\n",
      "BG\n",
      "CY\n",
      "CZ\n",
      "DE\n",
      "DK\n",
      "EE\n",
      "ES\n",
      "FI\n",
      "FR\n",
      "UK\n",
      "EL\n",
      "HR\n",
      "HU\n",
      "IE\n",
      "IT\n",
      "LT\n",
      "LU\n",
      "LV\n",
      "MT\n",
      "NL\n",
      "PL\n",
      "PT\n",
      "RO\n",
      "SE\n",
      "SI\n",
      "SK\n"
     ]
    }
   ],
   "source": [
    "#for x in df_personal['country_code'].unique():\n",
    "#    print (x)\n",
    "df_personal['country_code'].unique()"
   ]
  },
  {
   "cell_type": "code",
   "execution_count": 17,
   "metadata": {},
   "outputs": [],
   "source": []
  },
  {
   "cell_type": "code",
   "execution_count": 19,
   "metadata": {},
   "outputs": [],
   "source": []
  },
  {
   "cell_type": "code",
   "execution_count": null,
   "metadata": {},
   "outputs": [],
   "source": []
  }
 ],
 "metadata": {
  "kernelspec": {
   "display_name": "Python [conda env:iron]",
   "language": "python",
   "name": "conda-env-iron-py"
  },
  "language_info": {
   "codemirror_mode": {
    "name": "ipython",
    "version": 3
   },
   "file_extension": ".py",
   "mimetype": "text/x-python",
   "name": "python",
   "nbconvert_exporter": "python",
   "pygments_lexer": "ipython3",
   "version": "3.7.7"
  }
 },
 "nbformat": 4,
 "nbformat_minor": 4
}
