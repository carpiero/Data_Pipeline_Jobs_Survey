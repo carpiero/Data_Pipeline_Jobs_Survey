{
 "cells": [
  {
   "cell_type": "code",
   "execution_count": 1,
   "metadata": {},
   "outputs": [],
   "source": [
    "import pandas as pd\n",
    "\n",
    "df_personal=pd.read_parquet(f'../data/processed/df_proba.parquet')"
   ]
  },
  {
   "cell_type": "code",
   "execution_count": 2,
   "metadata": {},
   "outputs": [
    {
     "name": "stdout",
     "output_type": "stream",
     "text": [
      "<class 'pandas.core.frame.DataFrame'>\n",
      "Int64Index: 9649 entries, 0 to 9648\n",
      "Data columns (total 15 columns):\n",
      " #   Column                                               Non-Null Count  Dtype   \n",
      "---  ------                                               --------------  -----   \n",
      " 0   uuid                                                 9649 non-null   object  \n",
      " 1   age                                                  9649 non-null   int64   \n",
      " 2   gender                                               9649 non-null   category\n",
      " 3   dem_has_children                                     9649 non-null   category\n",
      " 4   age_group                                            9649 non-null   category\n",
      " 5   country_code                                         9649 non-null   category\n",
      " 6   rural                                                9649 non-null   object  \n",
      " 7   dem_education_level                                  8986 non-null   object  \n",
      " 8   dem_full_time_job                                    9649 non-null   object  \n",
      " 9   normalized_job_code                                  5702 non-null   object  \n",
      " 10  question_bbi_2016wave4_basicincome_awareness         9649 non-null   object  \n",
      " 11  question_bbi_2016wave4_basicincome_vote              9649 non-null   object  \n",
      " 12  question_bbi_2016wave4_basicincome_effect            9649 non-null   object  \n",
      " 13  question_bbi_2016wave4_basicincome_argumentsfor      9649 non-null   object  \n",
      " 14  question_bbi_2016wave4_basicincome_argumentsagainst  9649 non-null   object  \n",
      "dtypes: category(4), int64(1), object(10)\n",
      "memory usage: 8.6 MB\n",
      "None\n"
     ]
    }
   ],
   "source": [
    "print(df_personal.info(memory_usage='deep'))"
   ]
  },
  {
   "cell_type": "code",
   "execution_count": 3,
   "metadata": {},
   "outputs": [
    {
     "name": "stdout",
     "output_type": "stream",
     "text": [
      "uuid                                                   9649\n",
      "age                                                      52\n",
      "gender                                                    2\n",
      "dem_has_children                                          2\n",
      "age_group                                                 3\n",
      "country_code                                             28\n",
      "rural                                                     6\n",
      "dem_education_level                                       4\n",
      "dem_full_time_job                                         2\n",
      "normalized_job_code                                     156\n",
      "question_bbi_2016wave4_basicincome_awareness              4\n",
      "question_bbi_2016wave4_basicincome_vote                   5\n",
      "question_bbi_2016wave4_basicincome_effect                 9\n",
      "question_bbi_2016wave4_basicincome_argumentsfor         674\n",
      "question_bbi_2016wave4_basicincome_argumentsagainst     881\n",
      "dtype: int64\n"
     ]
    }
   ],
   "source": [
    "print(df_personal.nunique())"
   ]
  },
  {
   "cell_type": "code",
   "execution_count": 20,
   "metadata": {},
   "outputs": [
    {
     "name": "stdout",
     "output_type": "stream",
     "text": [
      "AT\n",
      "BE\n",
      "BG\n",
      "CY\n",
      "CZ\n",
      "DE\n",
      "DK\n",
      "EE\n",
      "ES\n",
      "FI\n",
      "FR\n",
      "UK\n",
      "EL\n",
      "HR\n",
      "HU\n",
      "IE\n",
      "IT\n",
      "LT\n",
      "LU\n",
      "LV\n",
      "MT\n",
      "NL\n",
      "PL\n",
      "PT\n",
      "RO\n",
      "SE\n",
      "SI\n",
      "SK\n"
     ]
    }
   ],
   "source": [
    "#for x in df_personal['country_code'].unique():\n",
    "#    print (x)\n",
    "df_personal['country_code'].unique()"
   ]
  },
  {
   "cell_type": "code",
   "execution_count": 17,
   "metadata": {},
   "outputs": [],
   "source": []
  },
  {
   "cell_type": "code",
   "execution_count": 19,
   "metadata": {},
   "outputs": [],
   "source": []
  },
  {
   "cell_type": "code",
   "execution_count": null,
   "metadata": {},
   "outputs": [],
   "source": []
  }
 ],
 "metadata": {
  "kernelspec": {
   "display_name": "Python [conda env:iron]",
   "language": "python",
   "name": "conda-env-iron-py"
  },
  "language_info": {
   "codemirror_mode": {
    "name": "ipython",
    "version": 3
   },
   "file_extension": ".py",
   "mimetype": "text/x-python",
   "name": "python",
   "nbconvert_exporter": "python",
   "pygments_lexer": "ipython3",
   "version": "3.7.7"
  }
 },
 "nbformat": 4,
 "nbformat_minor": 4
}
