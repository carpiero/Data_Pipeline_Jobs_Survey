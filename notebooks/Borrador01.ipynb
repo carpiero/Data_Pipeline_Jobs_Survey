{
 "cells": [
  {
   "cell_type": "code",
   "execution_count": 1,
   "metadata": {},
   "outputs": [],
   "source": [
    "import pandas as pd\n",
    "\n",
    "df_personal=pd.read_csv(f'../data/results/df_results.csv')"
   ]
  },
  {
   "cell_type": "code",
   "execution_count": 2,
   "metadata": {},
   "outputs": [
    {
     "name": "stdout",
     "output_type": "stream",
     "text": [
      "<class 'pandas.core.frame.DataFrame'>\n",
      "RangeIndex: 8792 entries, 0 to 8791\n",
      "Data columns (total 6 columns):\n",
      " #   Column      Non-Null Count  Dtype \n",
      "---  ------      --------------  ----- \n",
      " 0   Unnamed: 0  8792 non-null   int64 \n",
      " 1   Country     8792 non-null   object\n",
      " 2   Job Title   8792 non-null   object\n",
      " 3   Gender (1)  8792 non-null   object\n",
      " 4   Quantity    8792 non-null   int64 \n",
      " 5   Percentage  8792 non-null   object\n",
      "dtypes: int64(2), object(4)\n",
      "memory usage: 2.5 MB\n",
      "None\n"
     ]
    }
   ],
   "source": [
    "print(df_personal.info(memory_usage='deep'))"
   ]
  },
  {
   "cell_type": "code",
   "execution_count": 3,
   "metadata": {},
   "outputs": [
    {
     "name": "stdout",
     "output_type": "stream",
     "text": [
      "Unnamed: 0    8792\n",
      "Country         28\n",
      "Job Title      157\n",
      "Gender (1)       2\n",
      "Quantity        49\n",
      "Percentage      28\n",
      "dtype: int64\n"
     ]
    }
   ],
   "source": [
    "print(df_personal.nunique())"
   ]
  },
  {
   "cell_type": "code",
   "execution_count": 11,
   "metadata": {},
   "outputs": [
    {
     "name": "stdout",
     "output_type": "stream",
     "text": [
      "UnitedKingdom\n",
      "good\n"
     ]
    }
   ],
   "source": [
    "#for x in df_personal['country_code'].unique():\n",
    "#    print (x)\n",
    "\n",
    "import re\n",
    "h=df_personal['Country'].unique().tolist()\n",
    "\n",
    "country='UnitedKingdom'\n",
    "\n",
    "\n",
    "if not isinstance(country, str):\n",
    "    print('Error, please insert a correct Country')\n",
    "else:\n",
    "    if country not in h:\n",
    "        country= country.lower()\n",
    "        country= country.title()\n",
    "        country = re.sub(r' ','',country)\n",
    "        if country not in h:\n",
    "            print('Error, please insert a correct Country')\n",
    "        \n",
    "        else:\n",
    "            print(country + 'hola')\n",
    "            print('good2')\n",
    "    else:\n",
    "        print(country)\n",
    "        print('good')\n",
    "\n",
    "\n",
    "\n"
   ]
  },
  {
   "cell_type": "code",
   "execution_count": 13,
   "metadata": {},
   "outputs": [
    {
     "data": {
      "text/plain": [
       "numpy.ndarray"
      ]
     },
     "execution_count": 13,
     "metadata": {},
     "output_type": "execute_result"
    }
   ],
   "source": [
    "type(df_personal['Country'].unique())"
   ]
  },
  {
   "cell_type": "code",
   "execution_count": 17,
   "metadata": {},
   "outputs": [
    {
     "data": {
      "text/plain": [
       "Ireland          314\n",
       "Denmark          314\n",
       "UnitedKingdom    314\n",
       "France           314\n",
       "Portugal         314\n",
       "Estonia          314\n",
       "Lithuania        314\n",
       "Hungary          314\n",
       "Czechia          314\n",
       "Italy            314\n",
       "Austria          314\n",
       "Slovakia         314\n",
       "Germany          314\n",
       "Cyprus           314\n",
       "Croatia          314\n",
       "Bulgaria         314\n",
       "Luxembourg       314\n",
       "Belgium          314\n",
       "Poland           314\n",
       "Latvia           314\n",
       "Netherlands      314\n",
       "Romania          314\n",
       "Malta            314\n",
       "Sweden           314\n",
       "Spain            314\n",
       "Finland          314\n",
       "Greece           314\n",
       "Slovenia         314\n",
       "Name: Country, dtype: int64"
      ]
     },
     "execution_count": 17,
     "metadata": {},
     "output_type": "execute_result"
    }
   ],
   "source": [
    "df_personal['Country'].value_counts()"
   ]
  },
  {
   "cell_type": "code",
   "execution_count": null,
   "metadata": {},
   "outputs": [],
   "source": []
  }
 ],
 "metadata": {
  "kernelspec": {
   "display_name": "Python [conda env:iron]",
   "language": "python",
   "name": "conda-env-iron-py"
  },
  "language_info": {
   "codemirror_mode": {
    "name": "ipython",
    "version": 3
   },
   "file_extension": ".py",
   "mimetype": "text/x-python",
   "name": "python",
   "nbconvert_exporter": "python",
   "pygments_lexer": "ipython3",
   "version": "3.7.7"
  }
 },
 "nbformat": 4,
 "nbformat_minor": 4
}
